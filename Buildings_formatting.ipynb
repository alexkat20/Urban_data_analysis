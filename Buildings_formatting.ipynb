{
 "cells": [
  {
   "cell_type": "code",
   "execution_count": 2,
   "id": "fa81abe4-2cb1-4132-8ade-1073215425f6",
   "metadata": {},
   "outputs": [
    {
     "data": {
      "text/plain": [
       "<CityGeoTools.metrics.data.CityInformationModel.CityInformationModel at 0x1a3406f8d00>"
      ]
     },
     "execution_count": 2,
     "metadata": {},
     "output_type": "execute_result"
    }
   ],
   "source": [
    "from CityGeoTools.metrics.data import CityInformationModel as BaseModel\n",
    "\n",
    "city_model = BaseModel.CityInformationModel(city_name=\"Kaliningrad\", city_crs=32634)\n",
    "city_model"
   ]
  },
  {
   "cell_type": "code",
   "execution_count": 3,
   "id": "9bb26a2f-20a9-4166-9f9f-8184b74c4fe2",
   "metadata": {},
   "outputs": [
    {
     "name": "stdout",
     "output_type": "stream",
     "text": [
      "Validation of Buildings layer...\n",
      "Buildings layer loaded successfully!\n",
      "                                                geometry  built_year  \\\n",
      "0      MULTIPOLYGON (((inf inf, inf inf, inf inf, inf...        1962   \n",
      "1      MULTIPOLYGON (((inf inf, inf inf, inf inf, inf...        1950   \n",
      "2      MULTIPOLYGON (((inf inf, inf inf, inf inf, inf...        1951   \n",
      "3      MULTIPOLYGON (((inf inf, inf inf, inf inf, inf...        1942   \n",
      "4      MULTIPOLYGON (((inf inf, inf inf, inf inf, inf...        1957   \n",
      "...                                                  ...         ...   \n",
      "23908  MULTIPOLYGON (((inf inf, inf inf, inf inf, inf...        1945   \n",
      "23909  MULTIPOLYGON (((inf inf, inf inf, inf inf, inf...        1955   \n",
      "23910  MULTIPOLYGON (((inf inf, inf inf, inf inf, inf...        1948   \n",
      "23911  MULTIPOLYGON (((inf inf, inf inf, inf inf, inf...        1976   \n",
      "23912  MULTIPOLYGON (((inf inf, inf inf, inf inf, inf...        1971   \n",
      "\n",
      "       entrance_c  is_living  heating_ty  total_ppl  floor_coun  elevators_  \\\n",
      "0               3          0           7          0           4           0   \n",
      "1               3          0           7          0           5           0   \n",
      "2               3          0           7          0           5           0   \n",
      "3               2          0           7          0           2           0   \n",
      "4               2          0           7          0           4           0   \n",
      "...           ...        ...         ...        ...         ...         ...   \n",
      "23908           2          0           7          0           3           0   \n",
      "23909           3          1           7         44           5           0   \n",
      "23910           2          0           7          0           3           0   \n",
      "23911           4          1           7         42           5           0   \n",
      "23912           3          1           7         64           5           0   \n",
      "\n",
      "        area_resid         area  built_year_is_imputed  entrance_c_is_imputed  \\\n",
      "0      1756.124012  2558.467926                   True                   True   \n",
      "1      1995.765553  2906.330011                   True                   True   \n",
      "2      1918.489009  2625.769565                   True                   True   \n",
      "3       745.453403  3928.826205                   True                   True   \n",
      "4       641.482972  5125.072749                   True                   True   \n",
      "...            ...          ...                    ...                    ...   \n",
      "23908    24.955657  4370.401174                   True                   True   \n",
      "23909  2196.214405  2308.606474                   True                   True   \n",
      "23910   412.006595   305.605432                   True                   True   \n",
      "23911  3796.577106  2920.359252                   True                   True   \n",
      "23912  1417.548223  4766.780392                   True                   True   \n",
      "\n",
      "       is_living_is_imputed  heating_ty_is_imputed  total_ppl_is_imputed  \\\n",
      "0                     False                  False                 False   \n",
      "1                     False                  False                 False   \n",
      "2                     False                  False                 False   \n",
      "3                     False                  False                 False   \n",
      "4                     False                  False                 False   \n",
      "...                     ...                    ...                   ...   \n",
      "23908                 False                  False                 False   \n",
      "23909                 False                  False                 False   \n",
      "23910                 False                  False                 False   \n",
      "23911                 False                  False                 False   \n",
      "23912                 False                  False                 False   \n",
      "\n",
      "       floor_coun_is_imputed  elevators__is_imputed  area_resid_is_imputed  \\\n",
      "0                       True                   True                   True   \n",
      "1                       True                   True                   True   \n",
      "2                       True                   True                   True   \n",
      "3                       True                   True                   True   \n",
      "4                       True                   True                   True   \n",
      "...                      ...                    ...                    ...   \n",
      "23908                   True                   True                   True   \n",
      "23909                   True                   True                   True   \n",
      "23910                   True                   True                   True   \n",
      "23911                   True                   True                   True   \n",
      "23912                   True                   True                   True   \n",
      "\n",
      "       area_is_imputed  \n",
      "0                False  \n",
      "1                False  \n",
      "2                False  \n",
      "3                False  \n",
      "4                False  \n",
      "...                ...  \n",
      "23908            False  \n",
      "23909            False  \n",
      "23910            False  \n",
      "23911            False  \n",
      "23912            False  \n",
      "\n",
      "[23913 rows x 19 columns]\n"
     ]
    }
   ],
   "source": [
    "city_model.update_layer(attr_name=\"Buildings\", file_name=\"full_data.geojson\")\n",
    "\n",
    "print(city_model.Buildings)"
   ]
  },
  {
   "cell_type": "code",
   "execution_count": null,
   "id": "0c1865ee-3661-4d85-89c1-c9e01d8e371d",
   "metadata": {},
   "outputs": [],
   "source": []
  }
 ],
 "metadata": {
  "kernelspec": {
   "display_name": "Python 3",
   "language": "python",
   "name": "python3"
  },
  "language_info": {
   "codemirror_mode": {
    "name": "ipython",
    "version": 3
   },
   "file_extension": ".py",
   "mimetype": "text/x-python",
   "name": "python",
   "nbconvert_exporter": "python",
   "pygments_lexer": "ipython3",
   "version": "3.8.6"
  }
 },
 "nbformat": 4,
 "nbformat_minor": 5
}
